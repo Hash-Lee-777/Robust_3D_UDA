{
 "cells": [
  {
   "cell_type": "code",
   "execution_count": 1,
   "metadata": {},
   "outputs": [
    {
     "name": "stdout",
     "output_type": "stream",
     "text": [
      "Jupyter environment detected. Enabling Open3D WebVisualizer.\n",
      "[Open3D INFO] WebRTC GUI backend enabled.\n",
      "[Open3D INFO] WebRTCWindowSystem: HTTP handshake server disabled.\n"
     ]
    }
   ],
   "source": [
    "# randomly sampling and label spreading\n",
    "import open3d as o3d\n",
    "import torch\n",
    "import networkx as nx\n",
    "import numpy as np\n",
    "import pdb\n",
    "from torch_geometric.nn import GCNConv\n",
    "from torch_geometric.data import Data\n",
    "from sklearn.neighbors import NearestNeighbors\n",
    "import matplotlib.pyplot as plt"
   ]
  },
  {
   "cell_type": "code",
   "execution_count": 2,
   "metadata": {},
   "outputs": [],
   "source": [
    "synlidar2kitti = np.array(['car', 'bicycle', 'motorcycle',  'truck', 'other-vehicle', 'person',\n",
    "                           'bicyclist', 'motorcyclist',\n",
    "                           'road', 'parking', 'sidewalk', 'other-ground',\n",
    "                           'building', 'fence', 'vegetation', 'trunk',\n",
    "                           'terrain', 'pole', 'traffic-sign'])\n",
    "synlidar2kitti_color = np.array([(255, 255, 255),  # unlabelled\n",
    "                                    (25, 25, 255),  # car\n",
    "                                    (187, 0, 255),  # bicycle\n",
    "                                    (187, 50, 255),  # motorcycle\n",
    "                                    (0, 247, 255),  # truck\n",
    "                                    (50, 162, 168),  # other-vehicle\n",
    "                                    (250, 178, 50),  # person\n",
    "                                    (255, 196, 0),  # bicyclist\n",
    "                                    (255, 196, 0),  # motorcyclist\n",
    "                                    (0, 0, 0),  # road\n",
    "                                    (148, 148, 148),  # parking\n",
    "                                    (255, 20, 60),  # sidewalk\n",
    "                                    (164, 173, 104),  # other-ground\n",
    "                                    (233, 166, 250),  # building\n",
    "                                    (255, 214, 251),  # fence\n",
    "                                    (157, 234, 50),  # vegetation\n",
    "                                    (107, 98, 56),  # trunk\n",
    "                                    (78, 72, 44),  # terrain\n",
    "                                    (83, 93, 130),  # pole\n",
    "                                    (173, 23, 121)])/255.   # traffic-sign\n",
    "\n",
    "# 根据类别索引返回颜色\n",
    "def get_color_from_label(label_index):\n",
    "    \"\"\"\n",
    "    根据类别索引返回相应的颜色\n",
    "    :param label_index: 类别索引\n",
    "    :return: 对应的 RGB 颜色（值在 0 到 1 之间）\n",
    "    \"\"\"\n",
    "    return synlidar2kitti_color[0] if label_index == -1 else synlidar2kitti_color[label_index+1]"
   ]
  },
  {
   "cell_type": "markdown",
   "metadata": {},
   "source": [
    "# Tools"
   ]
  },
  {
   "cell_type": "code",
   "execution_count": 3,
   "metadata": {},
   "outputs": [],
   "source": [
    "def vis(disp=False):\n",
    "    def _decorate(func):\n",
    "        def calculate_vis_scope(pcd):\n",
    "            import numpy as np\n",
    "            import open3d as o3d\n",
    "            # 获取点云数据的中心点\n",
    "            if isinstance(pcd, tuple):\n",
    "                pcd = pcd[0]\n",
    "            pcd_legacy = pcd.to_legacy()\n",
    "            center = pcd_legacy.get_center()\n",
    "            # 计算点云数据的范围\n",
    "            points = np.asarray(pcd_legacy.points)\n",
    "            min_bound = np.min(points, axis=0)\n",
    "            max_bound = np.max(points, axis=0)\n",
    "            extent = max(max_bound - min_bound) / 2\n",
    "            # 设置视角为正前方\n",
    "            lookat = center\n",
    "            up = [0, 1, 1]\n",
    "            front = [0, 0, 1]\n",
    "            zoom = 0.3\n",
    "            return zoom, front, lookat, up\n",
    "\n",
    "        def visualization(pcd):\n",
    "            vis = o3d.visualization.Visualizer()\n",
    "            if isinstance(pcd,tuple):\n",
    "                pcd = pcd[0]\n",
    "            vis.create_window()\n",
    "            # 将点云添加到可视化窗口\n",
    "            vis.add_geometry(pcd.to_legacy())\n",
    "            ctr = vis.get_view_control()\n",
    "            ctr.set_lookat(pcd.to_legacy().get_center())\n",
    "            ctr.set_up([0, 1, 1])\n",
    "            ctr.set_front([0, 0, 1])\n",
    "            ctr.set_zoom(0.3)\n",
    "            vis.run()\n",
    "            vis.destroy_window()\n",
    "\n",
    "        def _wrap(*args, **kwargs):\n",
    "            pcd = func(*args, **kwargs)\n",
    "            if disp:\n",
    "                print(\n",
    "                    f\"[INFO] Visualization Information: The point cloud from the function: {func.__name__}\"\n",
    "                )\n",
    "                visualization(pcd)\n",
    "            return pcd\n",
    "\n",
    "        return _wrap\n",
    "\n",
    "    return _decorate\n"
   ]
  },
  {
   "cell_type": "code",
   "execution_count": 4,
   "metadata": {},
   "outputs": [],
   "source": [
    "# 修改过的 visualize_graph 函数\n",
    "def visualize_graph(graph_data,labels):\n",
    "    # 创建 NetworkX 图\n",
    "    G = nx.Graph()  # 初始化图\n",
    "    edge_index = graph_data.edge_index.numpy()  # PyTorch Geometric 的 edge_index 转换为 numpy 数组\n",
    "    coords = graph_data.x.numpy()  # 节点坐标\n",
    "    # labels = graph_data.y.numpy()  # 节点标签\n",
    "    labels = labels.numpy()\n",
    "\n",
    "    # 添加节点和边\n",
    "    for edge in edge_index.T:\n",
    "        G.add_edge(edge[0], edge[1])\n",
    "\n",
    "    # 设置节点位置和颜色\n",
    "    pos = {i: (coords[i][0], coords[i][1]) for i in range(len(coords))}  # 使用节点的 2D 坐标\n",
    "    node_colors = [get_color_from_label(labels[i]) for i in range(len(labels))]  # 节点颜色\n",
    "\n",
    "    # 绘制图\n",
    "    plt.figure(figsize=(10, 8))\n",
    "    nx.draw(G, pos, with_labels=False, node_color=node_colors, node_size=50, edge_color='gray')  # 使用节点颜色\n",
    "    plt.title(\"Graph Visualization\")\n",
    "    plt.show()"
   ]
  },
  {
   "cell_type": "code",
   "execution_count": 5,
   "metadata": {},
   "outputs": [],
   "source": [
    "# 定义Open 3D可视化函数\n",
    "def visualize_point_cloud_with_edges(graph_data):\n",
    "    coords = graph_data.x.numpy()  # 节点坐标\n",
    "    edge_index = graph_data.edge_index.numpy() if graph_data.edge_index is not None else None # 边\n",
    "    labels = graph_data.y.numpy()  # 节点标签\n",
    "\n",
    "    # 创建 Open3D 点云\n",
    "    point_cloud = o3d.geometry.PointCloud()  \n",
    "    point_cloud.points = o3d.utility.Vector3dVector(coords)  # 设置点云坐标\n",
    "\n",
    "    # 为点云设置颜色\n",
    "    colors = [get_color_from_label(label) for label in labels]\n",
    "    point_cloud.colors = o3d.utility.Vector3dVector(colors)  # 设置点云颜色\n",
    "\n",
    "    if edge_index is not None:\n",
    "        # 创建 Open3D 线集合\n",
    "        lines = []\n",
    "        for edge in edge_index.T:\n",
    "            lines.append([edge[0], edge[1]])  # 添加边\n",
    "\n",
    "        # 创建线集合的边和颜色\n",
    "        line_set = o3d.geometry.LineSet(\n",
    "            points=o3d.utility.Vector3dVector(coords),\n",
    "            lines=o3d.utility.Vector2iVector(lines),\n",
    "        )\n",
    "        line_set.paint_uniform_color([0.5, 0.5, 0.5])  # 设置边颜色为灰色\n",
    "\n",
    "\n",
    "        # 创建可视化\n",
    "        # o3d.visualization.draw_geometries([point_cloud, line_set], window_name=\"Point Cloud with Edges\")\n",
    "        vis = o3d.visualization.Visualizer()\n",
    "        vis.create_window()\n",
    "        # 将点云添加到可视化窗口\n",
    "        vis.add_geometry(point_cloud)\n",
    "        vis.add_geometry(line_set)\n",
    "        ctr = vis.get_view_control()\n",
    "        ctr.set_lookat(point_cloud.get_center())\n",
    "        ctr.set_up([0, 1, 1])\n",
    "        ctr.set_front([0, 0, 1])\n",
    "        ctr.set_zoom(0.3)\n",
    "        vis.run()\n",
    "        vis.destroy_window()\n",
    "    else:\n",
    "        o3d.visualization.draw_geometries([point_cloud], window_name=\"Point Cloud with Edges\")\n"
   ]
  },
  {
   "cell_type": "code",
   "execution_count": 6,
   "metadata": {},
   "outputs": [],
   "source": [
    "# load point cloud\n",
    "\n",
    "def load_pcd(adv_point_path):\n",
    "    return o3d.t.io.read_point_cloud(adv_point_path)"
   ]
  },
  {
   "cell_type": "code",
   "execution_count": 7,
   "metadata": {},
   "outputs": [],
   "source": [
    "# load point cloud as array\n",
    "@vis(True)\n",
    "def load_pcd_array(pcd_path):\n",
    "    pcd = o3d.t.io.read_point_cloud(pcd_path)\n",
    "    pcd_legacy = pcd.to_legacy()\n",
    "    pcd_coords = np.asarray(pcd_legacy.points) \n",
    "    pcd_colors = np.asarray(pcd_legacy.colors) if pcd_legacy.has_normals else None\n",
    "    pcd_normals = np.asarray(pcd_legacy.normals) if pcd_legacy.has_normals() else None\n",
    "\n",
    "    return pcd,pcd_coords,pcd_colors,pcd_normals"
   ]
  },
  {
   "cell_type": "code",
   "execution_count": 8,
   "metadata": {},
   "outputs": [],
   "source": [
    "# load point cloud labels\n",
    "def load_labels_cloud(adv_label_path):\n",
    "    return torch.load(adv_label_path).int()"
   ]
  },
  {
   "cell_type": "code",
   "execution_count": 9,
   "metadata": {},
   "outputs": [],
   "source": [
    "# Uniform down sampling (对于点云均匀随机采样)\n",
    "@vis(disp=True)\n",
    "def pcd_unisampling(pcd=None,every_k_point=5):\n",
    "    return pcd.uniform_down_sample(every_k_points=every_k_point)"
   ]
  },
  {
   "cell_type": "code",
   "execution_count": 10,
   "metadata": {},
   "outputs": [],
   "source": [
    "# 创建输入输出Data\n",
    "def point_cloud_to_graph(point_coords, point_labels, k_neighbors=5):\n",
    "    \"\"\"\n",
    "    将点云数据转换为图结构。\n",
    "    \n",
    "    :param point_coords: 点云坐标的 numpy 数组，形状为 (N, 3)\n",
    "    :param point_labels: 点云标签的 numpy 数组，形状为 (N,)\n",
    "    :param k_neighbors: 每个点的 K 近邻数\n",
    "    :return: PyTorch Geometric 图数据对象\n",
    "    \"\"\"\n",
    "    # 创建 K-近邻结构\n",
    "    nbrs = NearestNeighbors(n_neighbors=k_neighbors, algorithm='ball_tree').fit(point_coords)\n",
    "    distances, indices = nbrs.kneighbors(point_coords)\n",
    "\n",
    "    # 创建 NetworkX 图\n",
    "    G = nx.Graph()  # 初始化图\n",
    "    for i, neighbors in enumerate(indices):\n",
    "        for j in neighbors:\n",
    "            if i != j:  # 避免自环\n",
    "                G.add_edge(i, j)  # 添加边\n",
    "\n",
    "    # 将 NetworkX 图转换为 PyTorch Geometric 图数据\n",
    "    edge_index = torch.tensor(list(G.edges)).t().contiguous()  # 转置并连续化\n",
    "    x = torch.tensor(point_coords, dtype=torch.float32)  # 节点特征\n",
    "    y = torch.tensor(point_labels, dtype=torch.long)  # 标签\n",
    "\n",
    "    # 创建 PyTorch Geometric 的 Data 对象\n",
    "    graph_data = Data(x=x, edge_index=edge_index, y=y)\n",
    "\n",
    "    return graph_data  # 返回图数据"
   ]
  },
  {
   "cell_type": "markdown",
   "metadata": {},
   "source": [
    "# label diffusion using Gnn"
   ]
  },
  {
   "cell_type": "code",
   "execution_count": 11,
   "metadata": {},
   "outputs": [],
   "source": [
    "#1. get access to point cloud data (记载点云数据)\n",
    "attacked_source_pcd_path = 'attackedLidar_Kitti100/adv_preds/04/4989_18.ply'\n",
    "attacked_source_labels_path = 'attackedLidar_Kitti100/adv_labels_pt/04/4989_71.pt'\n",
    "\n",
    "source_pcd_path = 'attackedLidar_Kitti100/ori_preds/04/4989_71.ply'\n",
    "source_labels_path = 'attackedLidar_Kitti100/ori_labels_pt/04/4989_71.pt'\n",
    "\n",
    "test_pcd_path = 'attackedLidar_Kitti100/ori_preds/06/35166_76.ply'\n",
    "test_labels_path = 'attackedLidar_Kitti100/ori_labels_pt/06/35166_76.pt'"
   ]
  },
  {
   "cell_type": "markdown",
   "metadata": {},
   "source": [
    "# Data preparation"
   ]
  },
  {
   "cell_type": "code",
   "execution_count": 12,
   "metadata": {},
   "outputs": [
    {
     "name": "stdout",
     "output_type": "stream",
     "text": [
      "[INFO] Visualization Information: The point cloud from the function: load_pcd_array\n",
      "[INFO] Visualization Information: The point cloud from the function: load_pcd_array\n",
      "[INFO] Visualization Information: The point cloud from the function: load_pcd_array\n",
      "Source Data points: tensor([[ 170.,  -57.,  -14.],\n",
      "        [-958., -714.,  -87.],\n",
      "        [  25.,  194.,  -35.],\n",
      "        ...,\n",
      "        [-465., -988.,  -79.],\n",
      "        [ 159.,  -82.,  -16.],\n",
      "        [ 273., -172.,   32.]])\n",
      "Test Data points: tensor([[   4., -175.,  -37.],\n",
      "        [ -82., -160.,  -52.],\n",
      "        [ 140.,   46.,  -28.],\n",
      "        ...,\n",
      "        [ 205., -171.,   -9.],\n",
      "        [ 185.,    2.,  -25.],\n",
      "        [ 397.,  257.,    3.]])\n"
     ]
    }
   ],
   "source": [
    "# source_pcd dataset\n",
    "_,source_pcd_coords, source_pcd_colors, source_pcd_normals = load_pcd_array(pcd_path=source_pcd_path)\n",
    "source_pcd_labels = load_labels_cloud(adv_label_path=source_labels_path)\n",
    "source_pcd_labels = source_pcd_labels.numpy()\n",
    "\n",
    "# target_pcd dataset\n",
    "_,test_pcd_coords, test_pcd_colors, test_pcd_normals = load_pcd_array(pcd_path=test_pcd_path)\n",
    "test_pcd_labels = load_labels_cloud(adv_label_path=test_labels_path)\n",
    "test_pcd_labels = test_pcd_labels.numpy()\n",
    "\n",
    "# attacked_source_pcd dataset\n",
    "_, attacked_source_pcd_coords, attacked_source_pcd_colors, attacked_source_pcd_normals = load_pcd_array(pcd_path=attacked_source_pcd_path)\n",
    "attacked_source_pcd_labels = load_labels_cloud(adv_label_path=attacked_source_labels_path)\n",
    "attacked_source_pcd_labels = attacked_source_pcd_labels.numpy()\n",
    "\n",
    "\n",
    "\n",
    "# 创建训练测试数据\n",
    "Source_Data = point_cloud_to_graph(source_pcd_coords,source_pcd_labels,k_neighbors=5)\n",
    "Attacked_Source_Data = point_cloud_to_graph(attacked_source_pcd_coords,attacked_source_pcd_labels,k_neighbors=5)\n",
    "Test_Data = point_cloud_to_graph(test_pcd_coords,test_pcd_labels,k_neighbors=5)\n",
    "\n",
    "print(f'Source Data points: {Source_Data.x}')\n",
    "print(f'Test Data points: {Test_Data.x}')\n",
    "\n",
    "visualize_point_cloud_with_edges(Source_Data)\n",
    "visualize_point_cloud_with_edges(Test_Data)\n",
    "visualize_point_cloud_with_edges(Attacked_Source_Data)"
   ]
  },
  {
   "cell_type": "code",
   "execution_count": 13,
   "metadata": {},
   "outputs": [],
   "source": [
    "# 定义图卷积神经网络模型，用于标签扩散\n",
    "class SimpleGCN(torch.nn.Module):\n",
    "    def __init__(self, input_dim,hidden_dim,output_dim):\n",
    "        super(SimpleGCN, self).__init__()\n",
    "        self.conv1 = GCNConv(input_dim, hidden_dim)\n",
    "        self.conv2 = GCNConv(hidden_dim, output_dim)\n",
    "    def forward(self,data):\n",
    "        x, edge_index = data.x, data.edge_index\n",
    "        x = self.conv1(x, edge_index)\n",
    "        x = torch.relu(x)\n",
    "        x = self.conv2(x, edge_index)\n",
    "        return x       "
   ]
  },
  {
   "cell_type": "markdown",
   "metadata": {},
   "source": [
    "# training model"
   ]
  },
  {
   "cell_type": "code",
   "execution_count": 14,
   "metadata": {},
   "outputs": [],
   "source": [
    "# 定义模型\n",
    "input_dim = 3  # 输入维度：点云的三维坐标\n",
    "hidden_dim = 3*24\n",
    "output_dim = 19  # 两个类别\n",
    "model = SimpleGCN(input_dim, hidden_dim, output_dim)\n",
    "# 定义损失函数和优化器\n",
    "criterion  = torch.nn.CrossEntropyLoss()\n",
    "optimizer = torch.optim.Adam(model.parameters(),lr=0.01)\n",
    "\n"
   ]
  },
  {
   "cell_type": "code",
   "execution_count": 17,
   "metadata": {},
   "outputs": [
    {
     "name": "stdout",
     "output_type": "stream",
     "text": [
      "Epoch 0, Loss: 0.773408055305481, Training Accuracy: 0.7906653576013897\n",
      "Epoch 10, Loss: 0.7843232750892639, Training Accuracy: 0.7811947738086247\n",
      "Epoch 20, Loss: 0.740896999835968, Training Accuracy: 0.790499207008534\n",
      "Epoch 30, Loss: 0.7508715391159058, Training Accuracy: 0.7892304206630919\n",
      "Epoch 40, Loss: 0.8064696192741394, Training Accuracy: 0.7782795861339777\n",
      "Epoch 50, Loss: 0.9630712866783142, Training Accuracy: 0.7689298391360169\n",
      "Epoch 60, Loss: 0.7920063138008118, Training Accuracy: 0.7673740654029152\n",
      "Epoch 70, Loss: 1.0644770860671997, Training Accuracy: 0.7489464541953025\n",
      "Epoch 80, Loss: 0.9378944635391235, Training Accuracy: 0.7635979155652897\n",
      "Epoch 90, Loss: 0.7220717668533325, Training Accuracy: 0.8080205422551167\n"
     ]
    }
   ],
   "source": [
    "# 训练模型\n",
    "flag_adv_pretrain = False\n",
    "if flag_adv_pretrain:\n",
    "    Source_Data = Attacked_Source_Data\n",
    "else:\n",
    "    Source_Data = Source_Data\n",
    "\n",
    "num_epochs = 100\n",
    "for epoch in range(num_epochs):\n",
    "    optimizer.zero_grad()  # 重置优化器梯度\n",
    "    out = model(Source_Data)  # 前向传递\n",
    "\n",
    "    # 仅使用已知标签进行损失计算\n",
    "    labeled_indices = (Source_Data.y >= 0).nonzero().view(-1)\n",
    "    loss = criterion(out[labeled_indices], Source_Data.y[labeled_indices])  # 计算损失\n",
    "\n",
    "    loss.backward()  # 反向传播\n",
    "    optimizer.step()  # 优化器更新参数\n",
    "\n",
    "    if epoch % 10 == 0:\n",
    "        # 计算训练准确率\n",
    "        _, predicted = torch.max(out, 1)\n",
    "        correct = (predicted == Source_Data.y).sum().item()\n",
    "        accuracy = correct / len(Source_Data.y)\n",
    "        print(f\"Epoch {epoch}, Loss: {loss.item()}, Training Accuracy: {accuracy}\")\n"
   ]
  },
  {
   "cell_type": "code",
   "execution_count": 18,
   "metadata": {},
   "outputs": [
    {
     "name": "stdout",
     "output_type": "stream",
     "text": [
      "Test Accuracy: 0.3463456310679612\n"
     ]
    }
   ],
   "source": [
    "# 在测试数据上进行评估\n",
    "model.eval()  # 设置为评估模式\n",
    "with torch.no_grad():  # 禁用梯度计算\n",
    "    test_out = model(Test_Data)  # 测试数据的预测\n",
    "    _, test_predicted = torch.max(test_out, 1)\n",
    "    test_correct = (test_predicted == Test_Data.y).sum().item()\n",
    "    test_accuracy = test_correct / len(Test_Data.y)\n",
    "    print(f\"Test Accuracy: {test_accuracy}\")\n",
    "\n",
    "# 可视化预测结果\n",
    "visualize_point_cloud_with_edges(graph_data=Data(x=Test_Data.x,y=test_predicted,edge_index=None))\n",
    "# 可视化测试样本的结果\n",
    "visualize_point_cloud_with_edges(graph_data=Data(x=Test_Data.x,y=Test_Data.y,edge_index=None))\n",
    "\n",
    "# 保存训练好的模型\n",
    "torch.save(model.state_dict(), \"simple_gcn_model.pth\")  # 保存模型参数"
   ]
  },
  {
   "cell_type": "markdown",
   "metadata": {},
   "source": []
  }
 ],
 "metadata": {
  "kernelspec": {
   "display_name": "torch_cuda",
   "language": "python",
   "name": "python3"
  },
  "language_info": {
   "codemirror_mode": {
    "name": "ipython",
    "version": 3
   },
   "file_extension": ".py",
   "mimetype": "text/x-python",
   "name": "python",
   "nbconvert_exporter": "python",
   "pygments_lexer": "ipython3",
   "version": "3.9.0"
  }
 },
 "nbformat": 4,
 "nbformat_minor": 2
}
